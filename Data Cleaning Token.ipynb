{
 "cells": [
  {
   "cell_type": "code",
   "execution_count": 6,
   "metadata": {},
   "outputs": [],
   "source": [
    "import pandas as pd"
   ]
  },
  {
   "cell_type": "code",
   "execution_count": 7,
   "metadata": {},
   "outputs": [],
   "source": [
    "from urllib.request import urlopen\n",
    "import json\n",
    "from datetime import datetime"
   ]
  },
  {
   "cell_type": "code",
   "execution_count": 8,
   "metadata": {},
   "outputs": [
    {
     "data": {
      "text/html": [
       "<div>\n",
       "<style scoped>\n",
       "    .dataframe tbody tr th:only-of-type {\n",
       "        vertical-align: middle;\n",
       "    }\n",
       "\n",
       "    .dataframe tbody tr th {\n",
       "        vertical-align: top;\n",
       "    }\n",
       "\n",
       "    .dataframe thead th {\n",
       "        text-align: right;\n",
       "    }\n",
       "</style>\n",
       "<table border=\"1\" class=\"dataframe\">\n",
       "  <thead>\n",
       "    <tr style=\"text-align: right;\">\n",
       "      <th></th>\n",
       "      <th>price</th>\n",
       "      <th>time</th>\n",
       "      <th>Date</th>\n",
       "    </tr>\n",
       "  </thead>\n",
       "  <tbody>\n",
       "    <tr>\n",
       "      <th>0</th>\n",
       "      <td>22386</td>\n",
       "      <td>1428831390</td>\n",
       "      <td>2015-04-12 09:36:30</td>\n",
       "    </tr>\n",
       "    <tr>\n",
       "      <th>1</th>\n",
       "      <td>22162</td>\n",
       "      <td>1428835384</td>\n",
       "      <td>2015-04-12 10:43:04</td>\n",
       "    </tr>\n",
       "    <tr>\n",
       "      <th>2</th>\n",
       "      <td>21940</td>\n",
       "      <td>1428837415</td>\n",
       "      <td>2015-04-12 11:16:55</td>\n",
       "    </tr>\n",
       "    <tr>\n",
       "      <th>3</th>\n",
       "      <td>21721</td>\n",
       "      <td>1428841107</td>\n",
       "      <td>2015-04-12 12:18:27</td>\n",
       "    </tr>\n",
       "    <tr>\n",
       "      <th>4</th>\n",
       "      <td>21504</td>\n",
       "      <td>1428844572</td>\n",
       "      <td>2015-04-12 13:16:12</td>\n",
       "    </tr>\n",
       "    <tr>\n",
       "      <th>...</th>\n",
       "      <td>...</td>\n",
       "      <td>...</td>\n",
       "      <td>...</td>\n",
       "    </tr>\n",
       "    <tr>\n",
       "      <th>121319</th>\n",
       "      <td>117728</td>\n",
       "      <td>1593364530</td>\n",
       "      <td>2020-06-28 17:15:30</td>\n",
       "    </tr>\n",
       "    <tr>\n",
       "      <th>121320</th>\n",
       "      <td>117261</td>\n",
       "      <td>1593365730</td>\n",
       "      <td>2020-06-28 17:35:30</td>\n",
       "    </tr>\n",
       "    <tr>\n",
       "      <th>121321</th>\n",
       "      <td>116822</td>\n",
       "      <td>1593366930</td>\n",
       "      <td>2020-06-28 17:55:30</td>\n",
       "    </tr>\n",
       "    <tr>\n",
       "      <th>121322</th>\n",
       "      <td>116625</td>\n",
       "      <td>1593368130</td>\n",
       "      <td>2020-06-28 18:15:30</td>\n",
       "    </tr>\n",
       "    <tr>\n",
       "      <th>121323</th>\n",
       "      <td>116590</td>\n",
       "      <td>1593369330</td>\n",
       "      <td>2020-06-28 18:35:30</td>\n",
       "    </tr>\n",
       "  </tbody>\n",
       "</table>\n",
       "<p>121324 rows × 3 columns</p>\n",
       "</div>"
      ],
      "text/plain": [
       "         price        time                Date\n",
       "0        22386  1428831390 2015-04-12 09:36:30\n",
       "1        22162  1428835384 2015-04-12 10:43:04\n",
       "2        21940  1428837415 2015-04-12 11:16:55\n",
       "3        21721  1428841107 2015-04-12 12:18:27\n",
       "4        21504  1428844572 2015-04-12 13:16:12\n",
       "...        ...         ...                 ...\n",
       "121319  117728  1593364530 2020-06-28 17:15:30\n",
       "121320  117261  1593365730 2020-06-28 17:35:30\n",
       "121321  116822  1593366930 2020-06-28 17:55:30\n",
       "121322  116625  1593368130 2020-06-28 18:15:30\n",
       "121323  116590  1593369330 2020-06-28 18:35:30\n",
       "\n",
       "[121324 rows x 3 columns]"
      ]
     },
     "execution_count": 8,
     "metadata": {},
     "output_type": "execute_result"
    }
   ],
   "source": [
    "response = urlopen(\"https://wowtokenprices.com/history_prices_full.json\")\n",
    "json_data = response.read().decode('utf-8', 'replace')\n",
    "\n",
    "d = json.loads(json_data)\n",
    "df = pd.json_normalize(d[''])\n",
    "df[\"Date\"] = pd.to_datetime(df['time'],unit='s')\n",
    "df"
   ]
  },
  {
   "cell_type": "code",
   "execution_count": 9,
   "metadata": {},
   "outputs": [],
   "source": [
    "df.to_json('WowTokenPrice_us.json', orient='records')"
   ]
  },
  {
   "cell_type": "code",
   "execution_count": null,
   "metadata": {},
   "outputs": [],
   "source": []
  }
 ],
 "metadata": {
  "kernelspec": {
   "display_name": "Python 3",
   "language": "python",
   "name": "python3"
  },
  "language_info": {
   "codemirror_mode": {
    "name": "ipython",
    "version": 3
   },
   "file_extension": ".py",
   "mimetype": "text/x-python",
   "name": "python",
   "nbconvert_exporter": "python",
   "pygments_lexer": "ipython3",
   "version": "3.7.7"
  }
 },
 "nbformat": 4,
 "nbformat_minor": 4
}
